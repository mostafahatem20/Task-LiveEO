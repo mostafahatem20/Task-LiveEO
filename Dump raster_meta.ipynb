{
 "cells": [
  {
   "cell_type": "code",
   "execution_count": 1,
   "id": "4f877ae7",
   "metadata": {},
   "outputs": [],
   "source": [
    "import subprocess\n",
    "import json\n",
    "ret = subprocess.check_output(\"gdalinfo -stats -json all_tifs/B02/patched_sentinel_2_2019-10-15_B02_10m_33_N578_W06_1000cm_roff_0_coff_0.tif\", shell=True)\n",
    "info_dict = json.loads(ret)\n",
    "with open(\"raster_meta.json\", \"w\") as fp:\n",
    "    json.dump(info_dict, fp, indent = 4)"
   ]
  },
  {
   "cell_type": "code",
   "execution_count": 2,
   "id": "55c25592",
   "metadata": {},
   "outputs": [],
   "source": [
    "# spatial reference system is World Geodetic System which is a geographic coordinate system"
   ]
  }
 ],
 "metadata": {
  "kernelspec": {
   "display_name": "Python 3 (ipykernel)",
   "language": "python",
   "name": "python3"
  },
  "language_info": {
   "codemirror_mode": {
    "name": "ipython",
    "version": 3
   },
   "file_extension": ".py",
   "mimetype": "text/x-python",
   "name": "python",
   "nbconvert_exporter": "python",
   "pygments_lexer": "ipython3",
   "version": "3.8.12"
  }
 },
 "nbformat": 4,
 "nbformat_minor": 5
}
